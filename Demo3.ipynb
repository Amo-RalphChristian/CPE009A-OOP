{
  "nbformat": 4,
  "nbformat_minor": 0,
  "metadata": {
    "colab": {
      "provenance": [],
      "authorship_tag": "ABX9TyNEEbjUhu2uNaqAqz3eNo7K",
      "include_colab_link": true
    },
    "kernelspec": {
      "name": "python3",
      "display_name": "Python 3"
    },
    "language_info": {
      "name": "python"
    }
  },
  "cells": [
    {
      "cell_type": "markdown",
      "metadata": {
        "id": "view-in-github",
        "colab_type": "text"
      },
      "source": [
        "<a href=\"https://colab.research.google.com/github/Amo-RalphChristian/CPE009A-OOP/blob/main/Demo3.ipynb\" target=\"_parent\"><img src=\"https://colab.research.google.com/assets/colab-badge.svg\" alt=\"Open In Colab\"/></a>"
      ]
    },
    {
      "cell_type": "markdown",
      "source": [
        "## **if Statement**"
      ],
      "metadata": {
        "id": "05nhXNohOPeT"
      }
    },
    {
      "cell_type": "code",
      "execution_count": 3,
      "metadata": {
        "colab": {
          "base_uri": "https://localhost:8080/"
        },
        "id": "TZWv_9ctHwuD",
        "outputId": "263ce375-f67f-49f0-ceb7-b4de96d883d2"
      },
      "outputs": [
        {
          "output_type": "stream",
          "name": "stdout",
          "text": [
            "b is greater than a\n"
          ]
        }
      ],
      "source": [
        "a = 12\n",
        "b = 100\n",
        "if b > a:\n",
        "  print(\"b is greater than a\")"
      ]
    },
    {
      "cell_type": "markdown",
      "source": [
        "# **elif Statement**\n",
        "\n"
      ],
      "metadata": {
        "id": "hzkwdalyOXSp"
      }
    },
    {
      "cell_type": "code",
      "source": [
        "a = 12\n",
        "b = 12\n",
        "if b > a:\n",
        "  print(\"b is greater than a\")\n",
        "elif a == b:\n",
        "  print(\"a and b are equal\")"
      ],
      "metadata": {
        "colab": {
          "base_uri": "https://localhost:8080/"
        },
        "id": "dcnGnQqNOXro",
        "outputId": "8c8eadc2-9752-4647-ef1d-073ff15597be"
      },
      "execution_count": 6,
      "outputs": [
        {
          "output_type": "stream",
          "name": "stdout",
          "text": [
            "a and b are equal\n"
          ]
        }
      ]
    },
    {
      "cell_type": "markdown",
      "source": [
        "# **else Statement**"
      ],
      "metadata": {
        "id": "Dh9Tshk_QdOo"
      }
    },
    {
      "cell_type": "code",
      "source": [
        "a = 200\n",
        "b = 33\n",
        "if b > a:\n",
        "  print(\"b is greater than a\")\n",
        "elif a == b:\n",
        "  print(\"a and b are equal\")\n",
        "else:\n",
        "  print(\"a is greater than b\")"
      ],
      "metadata": {
        "colab": {
          "base_uri": "https://localhost:8080/"
        },
        "id": "h7VD8z3QQhoR",
        "outputId": "2e4fb065-8949-4ece-cb7b-fdc1f0aec909"
      },
      "execution_count": 7,
      "outputs": [
        {
          "output_type": "stream",
          "name": "stdout",
          "text": [
            "a is greater than b\n"
          ]
        }
      ]
    },
    {
      "cell_type": "markdown",
      "source": [
        "# ***Short Hand if Statement***"
      ],
      "metadata": {
        "id": "88do9QwGR1Rw"
      }
    },
    {
      "cell_type": "code",
      "source": [
        "if a > b: print(\"a is greater than b\")"
      ],
      "metadata": {
        "colab": {
          "base_uri": "https://localhost:8080/"
        },
        "id": "Be_sxnj5R1qA",
        "outputId": "fef7b3d6-505c-48fd-8864-0d32cc82070c"
      },
      "execution_count": 8,
      "outputs": [
        {
          "output_type": "stream",
          "name": "stdout",
          "text": [
            "a is greater than b\n"
          ]
        }
      ]
    },
    {
      "cell_type": "markdown",
      "source": [
        "# **Short Hand else if Statement**"
      ],
      "metadata": {
        "id": "zB6fKeyQSUAv"
      }
    },
    {
      "cell_type": "code",
      "source": [
        "a = 2\n",
        "b = 330\n",
        "print (\"A\") if a > b else print(\"B\")"
      ],
      "metadata": {
        "colab": {
          "base_uri": "https://localhost:8080/"
        },
        "id": "3JfL-oSkSUJn",
        "outputId": "57ee4480-15a5-4d8c-eba0-cc2ec3462270"
      },
      "execution_count": 10,
      "outputs": [
        {
          "output_type": "stream",
          "name": "stdout",
          "text": [
            "B\n"
          ]
        }
      ]
    },
    {
      "cell_type": "markdown",
      "source": [
        "# **And-both conditios are true**"
      ],
      "metadata": {
        "id": "baGnwVpyTy4w"
      }
    },
    {
      "cell_type": "code",
      "source": [
        "a = 200\n",
        "b = 33\n",
        "c = 500\n",
        "if a > b and c > a:\n",
        "  print(\"Both conditions are true\")"
      ],
      "metadata": {
        "colab": {
          "base_uri": "https://localhost:8080/"
        },
        "id": "8kpJtcPBTvdh",
        "outputId": "ec85dc3b-f764-45c4-ae52-0e9419fe1ffa"
      },
      "execution_count": 12,
      "outputs": [
        {
          "output_type": "stream",
          "name": "stdout",
          "text": [
            "Both conditions are true\n"
          ]
        }
      ]
    },
    {
      "cell_type": "markdown",
      "source": [
        "# **Or-atleast one of the conditions is true**"
      ],
      "metadata": {
        "id": "0izrh9gBUT7H"
      }
    },
    {
      "cell_type": "code",
      "source": [
        "a = 200\n",
        "b = 33\n",
        "c = 500\n",
        "if a > b or c > a:\n",
        "  print(\"At least one of the conditions is True\")"
      ],
      "metadata": {
        "colab": {
          "base_uri": "https://localhost:8080/"
        },
        "id": "KHgb2lPHUUgP",
        "outputId": "30779272-0975-4303-eb2f-43ca0dd4c2f2"
      },
      "execution_count": 13,
      "outputs": [
        {
          "output_type": "stream",
          "name": "stdout",
          "text": [
            "At least one of the conditions is True\n"
          ]
        }
      ]
    },
    {
      "cell_type": "markdown",
      "source": [
        "# **Nested if**"
      ],
      "metadata": {
        "id": "IHCY7d8DVCjH"
      }
    },
    {
      "cell_type": "code",
      "source": [
        "x = 41\n",
        "\n",
        "if x > 10:\n",
        "  print(\"Above 10,\")\n",
        "  if x > 20:\n",
        "    print(\"and also above 20,\")\n",
        "    if x > 30:\n",
        "      print(\"and also above 30,\")\n",
        "    else:\n",
        "      print(\"but not above 30\")\n",
        "    if x > 40:\n",
        "      print(\"and also above 40!\")\n",
        "    else:\n",
        "      print(\"but not above 40\")\n",
        "    if x > 50:\n",
        "      print(\"and also above 50\")\n",
        "    else:\n",
        "      print(\"but not above 50\")\n",
        "  else:\n",
        "    print(\"but not above 20\")"
      ],
      "metadata": {
        "colab": {
          "base_uri": "https://localhost:8080/"
        },
        "id": "B846kjPbVK5x",
        "outputId": "e5abf0c9-f8e0-42bf-a23c-92466c3cfe57"
      },
      "execution_count": 24,
      "outputs": [
        {
          "output_type": "stream",
          "name": "stdout",
          "text": [
            "Above 10,\n",
            "and also above 20,\n",
            "and also above 30,\n",
            "and also above 40!\n",
            "but not above 50\n"
          ]
        }
      ]
    },
    {
      "cell_type": "markdown",
      "source": [
        "# **EXAMPLE 1** `Write a program that determines if the input age is qualified to vote or not. The qualifying age is 18 years old and above`"
      ],
      "metadata": {
        "id": "ov8SbXDsbDvW"
      }
    },
    {
      "cell_type": "code",
      "source": [
        "a = int(input(\"Your Age: \"))\n",
        "if a > 18:\n",
        "  print(\"You are QUALIFIED to vote!\")\n",
        "else:\n",
        "  print(\"You are NOT QUALIFIED to vote!\")"
      ],
      "metadata": {
        "colab": {
          "base_uri": "https://localhost:8080/"
        },
        "id": "XLou4R8LbEwG",
        "outputId": "35b3c163-433a-4184-9b82-bb65bba7fc4c"
      },
      "execution_count": 26,
      "outputs": [
        {
          "output_type": "stream",
          "name": "stdout",
          "text": [
            "Your Age: 17\n",
            "You are NOT QUALIFIED to vote!\n"
          ]
        }
      ]
    },
    {
      "cell_type": "markdown",
      "source": [
        "# **EXAMPLE 2** `Write a program that determines if the input number is POSITIVE, NEGATIVE, or ZERO`\n",
        "\n",
        "\n",
        "\n"
      ],
      "metadata": {
        "id": "RXoCsjr0cug-"
      }
    },
    {
      "cell_type": "code",
      "source": [
        "a = int(input(\"Input a Number: \"))\n",
        "if a > 0:\n",
        "  print(\"Your number is a POSITIVE number\")\n",
        "elif a < 0:\n",
        "  print(\"Your number is a NEGATIVE number\")\n",
        "else:\n",
        "  print(\"Your number is ZERO\")"
      ],
      "metadata": {
        "colab": {
          "base_uri": "https://localhost:8080/"
        },
        "id": "YsRNRH4Scu3_",
        "outputId": "b861ee20-ef95-4b61-eaec-e23d82ab5f80"
      },
      "execution_count": 29,
      "outputs": [
        {
          "output_type": "stream",
          "name": "stdout",
          "text": [
            "Input a Number: 0\n",
            "Your number is ZERO\n"
          ]
        }
      ]
    },
    {
      "cell_type": "markdown",
      "source": [
        "# **EXAMPLE 3** `Write a program that determines if the grade are PASSED, REMEDIAL. or FAILED`\n"
      ],
      "metadata": {
        "id": "MaWiMhcYdr-u"
      }
    },
    {
      "cell_type": "code",
      "source": [
        "a = int(input(\"Your Grade: \"))\n",
        "if a >= 70 and a <= 100:\n",
        "  print(\"Passed\")\n",
        "elif a >= 65 and a <= 69:\n",
        "  print(\"Remedial\")\n",
        "elif a > 0 and a < 65:\n",
        "  print(\"Failed\")\n",
        "else:\n",
        "  print(\"Invalid grade\")"
      ],
      "metadata": {
        "colab": {
          "base_uri": "https://localhost:8080/"
        },
        "id": "wsStOIhHdsnG",
        "outputId": "6453313c-2578-430a-cc50-1b30a2efd673"
      },
      "execution_count": 36,
      "outputs": [
        {
          "output_type": "stream",
          "name": "stdout",
          "text": [
            "Your Grade: 101\n",
            "Invalid grade\n"
          ]
        }
      ]
    }
  ]
}