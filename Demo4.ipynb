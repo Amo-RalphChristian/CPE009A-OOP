{
  "nbformat": 4,
  "nbformat_minor": 0,
  "metadata": {
    "colab": {
      "provenance": [],
      "authorship_tag": "ABX9TyPsqjk7zpt/ysAjLa/5NYwp",
      "include_colab_link": true
    },
    "kernelspec": {
      "name": "python3",
      "display_name": "Python 3"
    },
    "language_info": {
      "name": "python"
    }
  },
  "cells": [
    {
      "cell_type": "markdown",
      "metadata": {
        "id": "view-in-github",
        "colab_type": "text"
      },
      "source": [
        "<a href=\"https://colab.research.google.com/github/Amo-RalphChristian/CPE009A-OOP/blob/main/Demo4.ipynb\" target=\"_parent\"><img src=\"https://colab.research.google.com/assets/colab-badge.svg\" alt=\"Open In Colab\"/></a>"
      ]
    },
    {
      "cell_type": "markdown",
      "source": [
        "# **Bool Function**"
      ],
      "metadata": {
        "id": "JQATRBXhYSkZ"
      }
    },
    {
      "cell_type": "code",
      "execution_count": 5,
      "metadata": {
        "colab": {
          "base_uri": "https://localhost:8080/"
        },
        "id": "nzRBP_z7XiYw",
        "outputId": "08b14fa4-db95-4759-b4aa-658cb105a441"
      },
      "outputs": [
        {
          "output_type": "stream",
          "name": "stdout",
          "text": [
            "True\n",
            "True\n"
          ]
        },
        {
          "output_type": "execute_result",
          "data": {
            "text/plain": [
              "False"
            ]
          },
          "metadata": {},
          "execution_count": 5
        }
      ],
      "source": [
        "print(bool(\"Hello\"))\n",
        "print(bool(15))\n",
        "\n",
        "bool(False)\n",
        "bool(None)\n",
        "bool(0)\n",
        "bool(\"\")\n",
        "bool(())\n",
        "bool([])\n",
        "bool({})"
      ]
    },
    {
      "cell_type": "markdown",
      "source": [
        "# **Function can return a boolean**\n"
      ],
      "metadata": {
        "id": "ZeMjVGdnaWYO"
      }
    },
    {
      "cell_type": "code",
      "source": [
        "def myFunction():\n",
        "  return True\n",
        "\n",
        "print(myFunction())\n",
        "\n",
        "if myFunction():\n",
        "  print(\"YES!\")\n",
        "else:\n",
        "  print(\"NO!\")"
      ],
      "metadata": {
        "colab": {
          "base_uri": "https://localhost:8080/"
        },
        "id": "DCtA2_-OY4EQ",
        "outputId": "15351df5-e731-4e2d-a85c-f9382e2095bf"
      },
      "execution_count": 7,
      "outputs": [
        {
          "output_type": "stream",
          "name": "stdout",
          "text": [
            "True\n",
            "YES!\n"
          ]
        }
      ]
    }
  ]
}