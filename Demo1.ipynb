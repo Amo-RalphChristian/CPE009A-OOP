{
  "nbformat": 4,
  "nbformat_minor": 0,
  "metadata": {
    "colab": {
      "provenance": [],
      "collapsed_sections": [
        "2KGkMUmSIoR4",
        "-RaRMU_dJ1cQ",
        "TIiRPoMiKwzX",
        "17nnZkDtNcI-",
        "CHbuQQtsPqS1",
        "xg47JsIlPQDO",
        "NFzOxMW6P6gd",
        "l9P65L6BQLvW",
        "ApaSknIYQ9G-",
        "RMdryN0LRM0F",
        "80qCAAmnUmkG",
        "Fva5fZUfVzjc",
        "u1SB3waPWdo9",
        "M8JPVG1BW7wU",
        "Q749zhq_XeRs"
      ],
      "authorship_tag": "ABX9TyMTpOiRyTm7wDVGZHOxsbeQ",
      "include_colab_link": true
    },
    "kernelspec": {
      "name": "python3",
      "display_name": "Python 3"
    },
    "language_info": {
      "name": "python"
    }
  },
  "cells": [
    {
      "cell_type": "markdown",
      "metadata": {
        "id": "view-in-github",
        "colab_type": "text"
      },
      "source": [
        "<a href=\"https://colab.research.google.com/github/amoralphchristian/CPE009A-OOP/blob/main/Demo1.ipynb\" target=\"_parent\"><img src=\"https://colab.research.google.com/assets/colab-badge.svg\" alt=\"Open In Colab\"/></a>"
      ]
    },
    {
      "cell_type": "markdown",
      "source": [
        "#**Python Indentation**"
      ],
      "metadata": {
        "id": "2KGkMUmSIoR4"
      }
    },
    {
      "cell_type": "code",
      "source": [
        "if 5 > 2:\n",
        "  print(\"Five is greater than two\")"
      ],
      "metadata": {
        "colab": {
          "base_uri": "https://localhost:8080/"
        },
        "id": "TO2Hyvs-IXVI",
        "outputId": "514ca70a-8125-4411-bc38-00f2cd51ad72"
      },
      "execution_count": 8,
      "outputs": [
        {
          "output_type": "stream",
          "name": "stdout",
          "text": [
            "Five is greater than two\n"
          ]
        }
      ]
    },
    {
      "cell_type": "markdown",
      "source": [
        "#**Python Comments**"
      ],
      "metadata": {
        "id": "-RaRMU_dJ1cQ"
      }
    },
    {
      "cell_type": "code",
      "source": [
        "#This is a comment\n",
        "print(\"hello world\")"
      ],
      "metadata": {
        "colab": {
          "base_uri": "https://localhost:8080/"
        },
        "id": "9sWi20ANJ423",
        "outputId": "58c03139-d4be-4a3c-8c42-8ec5773c0a43"
      },
      "execution_count": 9,
      "outputs": [
        {
          "output_type": "stream",
          "name": "stdout",
          "text": [
            "hello world\n"
          ]
        }
      ]
    },
    {
      "cell_type": "markdown",
      "source": [
        "# **Python Variables**"
      ],
      "metadata": {
        "id": "TIiRPoMiKwzX"
      }
    },
    {
      "cell_type": "code",
      "source": [
        "#This is a single variable with a value\n",
        "x = 1\n",
        "#This is a multiple variable with multiple value\n",
        "a,b = 0,-1\n",
        "print(a)\n",
        "print(b)\n",
        "print(x)\n",
        "\n",
        "b = \"Sally\"\n",
        "\n",
        "print(b)"
      ],
      "metadata": {
        "colab": {
          "base_uri": "https://localhost:8080/"
        },
        "id": "7LiyKUogLCte",
        "outputId": "26b7f3ff-f2f5-4adf-b8c9-2d6e45e0cf05"
      },
      "execution_count": 16,
      "outputs": [
        {
          "output_type": "stream",
          "name": "stdout",
          "text": [
            "0\n",
            "-1\n",
            "1\n",
            "Sally\n"
          ]
        }
      ]
    },
    {
      "cell_type": "markdown",
      "source": [
        "#**Python Casting**"
      ],
      "metadata": {
        "id": "17nnZkDtNcI-"
      }
    },
    {
      "cell_type": "code",
      "source": [
        "b = \"Sally\" #This is a type of string\n",
        "b = int(4)\n",
        "print(b)\n",
        "\n",
        "b = float(4)\n",
        "print(b)"
      ],
      "metadata": {
        "colab": {
          "base_uri": "https://localhost:8080/"
        },
        "id": "tW3PjVd0NjDW",
        "outputId": "c62c0dfd-1a3b-418d-cf94-7907e8c91507"
      },
      "execution_count": 20,
      "outputs": [
        {
          "output_type": "stream",
          "name": "stdout",
          "text": [
            "4\n",
            "4.0\n"
          ]
        }
      ]
    },
    {
      "cell_type": "markdown",
      "source": [
        "#**type() Function**"
      ],
      "metadata": {
        "id": "CHbuQQtsPqS1"
      }
    },
    {
      "cell_type": "code",
      "source": [
        "#type() Function\n",
        "x = 5\n",
        "y = \"John\"\n",
        "print(type(x))\n",
        "print(type(y))"
      ],
      "metadata": {
        "colab": {
          "base_uri": "https://localhost:8080/"
        },
        "id": "pH0iIR0tPy1e",
        "outputId": "ba7cb39c-5497-449c-f4be-4c5bb1a09c46"
      },
      "execution_count": 21,
      "outputs": [
        {
          "output_type": "stream",
          "name": "stdout",
          "text": [
            "<class 'int'>\n",
            "<class 'str'>\n"
          ]
        }
      ]
    },
    {
      "cell_type": "markdown",
      "source": [
        "#**Double Quotes or SIngle Quotes**"
      ],
      "metadata": {
        "id": "xg47JsIlPQDO"
      }
    },
    {
      "cell_type": "code",
      "source": [
        "y = \"John\"\n",
        "print(y)\n",
        "\n",
        "y = 'John'\n",
        "print(y)"
      ],
      "metadata": {
        "colab": {
          "base_uri": "https://localhost:8080/"
        },
        "id": "cZ7B23M8PXmB",
        "outputId": "dd76f855-8750-47be-b97f-2cc0402826b4"
      },
      "execution_count": 19,
      "outputs": [
        {
          "output_type": "stream",
          "name": "stdout",
          "text": [
            "John\n",
            "John\n"
          ]
        }
      ]
    },
    {
      "cell_type": "markdown",
      "source": [
        "#**Case Sensitive**"
      ],
      "metadata": {
        "id": "NFzOxMW6P6gd"
      }
    },
    {
      "cell_type": "code",
      "source": [
        "a = 4\n",
        "A = \"Sally\"\n",
        "#A will not overwrite a"
      ],
      "metadata": {
        "id": "BWjq62MEP-hd"
      },
      "execution_count": 22,
      "outputs": []
    },
    {
      "cell_type": "markdown",
      "source": [
        "#**Multiple Variable with multiple values**"
      ],
      "metadata": {
        "id": "l9P65L6BQLvW"
      }
    },
    {
      "cell_type": "code",
      "source": [
        "x,y,z = \"one\", \"two\", \"three\"\n",
        "print(x)\n",
        "print(y)\n",
        "print(z)"
      ],
      "metadata": {
        "colab": {
          "base_uri": "https://localhost:8080/"
        },
        "id": "IVKBuZ38QPw_",
        "outputId": "36e17b73-e7ba-4ac9-f265-0d3200a40ff6"
      },
      "execution_count": 23,
      "outputs": [
        {
          "output_type": "stream",
          "name": "stdout",
          "text": [
            "one\n",
            "two\n",
            "three\n"
          ]
        }
      ]
    },
    {
      "cell_type": "markdown",
      "source": [
        "#**Multiple Variable with one value**"
      ],
      "metadata": {
        "id": "ApaSknIYQ9G-"
      }
    },
    {
      "cell_type": "code",
      "source": [
        "x = y = z = \"four\"\n",
        "print(x)\n",
        "print(y)\n",
        "print(z)"
      ],
      "metadata": {
        "colab": {
          "base_uri": "https://localhost:8080/"
        },
        "id": "oOxkjHw7RDVl",
        "outputId": "002c9892-aad1-41e6-9b9c-8cbb70576db5"
      },
      "execution_count": 24,
      "outputs": [
        {
          "output_type": "stream",
          "name": "stdout",
          "text": [
            "four\n",
            "four\n",
            "four\n"
          ]
        }
      ]
    },
    {
      "cell_type": "markdown",
      "source": [
        "#**Output Variable**"
      ],
      "metadata": {
        "id": "RMdryN0LRM0F"
      }
    },
    {
      "cell_type": "code",
      "source": [
        "x = \"enjoying\"\n",
        "print(\"Python programming is \" + x)\n",
        "\n",
        "#Other way\n",
        "x = \"Python is \"\n",
        "y = \"enjoying\"\n",
        "z = x + y\n",
        "print(z)"
      ],
      "metadata": {
        "colab": {
          "base_uri": "https://localhost:8080/"
        },
        "id": "7WjLtIANRQM9",
        "outputId": "d15ff9eb-8cd1-467e-ba23-cf27bb4f887b"
      },
      "execution_count": 26,
      "outputs": [
        {
          "output_type": "stream",
          "name": "stdout",
          "text": [
            "Python programming is enjoying\n",
            "Python is enjoying\n"
          ]
        }
      ]
    },
    {
      "cell_type": "markdown",
      "source": [
        "#**Arithmetic Operations**"
      ],
      "metadata": {
        "id": "80qCAAmnUmkG"
      }
    },
    {
      "cell_type": "code",
      "source": [
        "x = 5\n",
        "y = 3\n",
        "print(x + y)\n",
        "\n",
        "sum = x + y\n",
        "sum"
      ],
      "metadata": {
        "colab": {
          "base_uri": "https://localhost:8080/"
        },
        "id": "2Q2RXPr8UvBt",
        "outputId": "e1cce7cd-1d90-4748-cb6b-3b30a7d55f53"
      },
      "execution_count": 27,
      "outputs": [
        {
          "output_type": "stream",
          "name": "stdout",
          "text": [
            "8\n"
          ]
        },
        {
          "output_type": "execute_result",
          "data": {
            "text/plain": [
              "8"
            ]
          },
          "metadata": {},
          "execution_count": 27
        }
      ]
    },
    {
      "cell_type": "markdown",
      "source": [
        "#**Assignment Operators**"
      ],
      "metadata": {
        "id": "Fva5fZUfVzjc"
      }
    },
    {
      "cell_type": "code",
      "source": [
        "a,b,c = 0,-1,6\n",
        "c %= 3\n",
        "c"
      ],
      "metadata": {
        "colab": {
          "base_uri": "https://localhost:8080/"
        },
        "id": "PePfYEXBV4Dt",
        "outputId": "ed09946d-9ed5-445d-8df9-2b0aae2ad40f"
      },
      "execution_count": 28,
      "outputs": [
        {
          "output_type": "execute_result",
          "data": {
            "text/plain": [
              "0"
            ]
          },
          "metadata": {},
          "execution_count": 28
        }
      ]
    },
    {
      "cell_type": "markdown",
      "source": [
        "#**Comparison Operator**"
      ],
      "metadata": {
        "id": "u1SB3waPWdo9"
      }
    },
    {
      "cell_type": "code",
      "source": [
        "x = 1\n",
        "y = 1\n",
        "\n",
        "x == y"
      ],
      "metadata": {
        "colab": {
          "base_uri": "https://localhost:8080/"
        },
        "id": "5sfatllAWiuF",
        "outputId": "481d8a56-3ee7-46cd-8401-b33f048991bf"
      },
      "execution_count": 30,
      "outputs": [
        {
          "output_type": "execute_result",
          "data": {
            "text/plain": [
              "True"
            ]
          },
          "metadata": {},
          "execution_count": 30
        }
      ]
    },
    {
      "cell_type": "markdown",
      "source": [
        "#**Logical Operator**"
      ],
      "metadata": {
        "id": "M8JPVG1BW7wU"
      }
    },
    {
      "cell_type": "code",
      "source": [
        "x = 1\n",
        "x < 5 and x < 10"
      ],
      "metadata": {
        "colab": {
          "base_uri": "https://localhost:8080/"
        },
        "id": "GZ1BqqsNXAI9",
        "outputId": "b2c0c174-05e2-4089-a556-22072bfea82d"
      },
      "execution_count": 33,
      "outputs": [
        {
          "output_type": "execute_result",
          "data": {
            "text/plain": [
              "True"
            ]
          },
          "metadata": {},
          "execution_count": 33
        }
      ]
    },
    {
      "cell_type": "markdown",
      "source": [
        "#**Identity Operator**"
      ],
      "metadata": {
        "id": "Q749zhq_XeRs"
      }
    },
    {
      "cell_type": "code",
      "source": [
        "a,b,c = 0,-1,5\n",
        "a is c"
      ],
      "metadata": {
        "colab": {
          "base_uri": "https://localhost:8080/"
        },
        "id": "0ld2Mas3XiuM",
        "outputId": "bbed693a-c91a-483e-b17e-f1ac98a6146e"
      },
      "execution_count": 37,
      "outputs": [
        {
          "output_type": "execute_result",
          "data": {
            "text/plain": [
              "False"
            ]
          },
          "metadata": {},
          "execution_count": 37
        }
      ]
    }
  ]
}