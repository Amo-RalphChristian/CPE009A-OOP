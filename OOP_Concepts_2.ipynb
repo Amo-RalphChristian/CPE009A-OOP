{
  "nbformat": 4,
  "nbformat_minor": 0,
  "metadata": {
    "colab": {
      "provenance": [],
      "authorship_tag": "ABX9TyPxGTm50bF5T5/LZRGY6geL",
      "include_colab_link": true
    },
    "kernelspec": {
      "name": "python3",
      "display_name": "Python 3"
    },
    "language_info": {
      "name": "python"
    }
  },
  "cells": [
    {
      "cell_type": "markdown",
      "metadata": {
        "id": "view-in-github",
        "colab_type": "text"
      },
      "source": [
        "<a href=\"https://colab.research.google.com/github/Amo-RalphChristian/CPE009A-OOP/blob/main/OOP_Concepts_2.ipynb\" target=\"_parent\"><img src=\"https://colab.research.google.com/assets/colab-badge.svg\" alt=\"Open In Colab\"/></a>"
      ]
    },
    {
      "cell_type": "markdown",
      "source": [
        "# **Application 2**\n",
        "\n",
        "\n",
        "\n",
        "1.   Create a class name Shapes(5 shapes)\n",
        "2.   Attributes 'Sides'\n",
        "3.   Create a Function/method that displays the no. of sides of the shape\n",
        "4.   Apply inheritance and encapsulation\n",
        "\n"
      ],
      "metadata": {
        "id": "_gTjSAhOrnaz"
      }
    },
    {
      "cell_type": "code",
      "execution_count": 24,
      "metadata": {
        "colab": {
          "base_uri": "https://localhost:8080/"
        },
        "id": "au2Zt5Lrdbw5",
        "outputId": "8985c1dd-d1bc-4a45-c970-e0766042823c"
      },
      "outputs": [
        {
          "output_type": "stream",
          "name": "stdout",
          "text": [
            "A Square has 4 sides\n",
            "A Triangle has 3 sides\n",
            "A Pentagon has 5 sides\n",
            "A Hexagon has 6 sides\n",
            "A Octagon has 8 sides\n"
          ]
        }
      ],
      "source": [
        "class Shapes:\n",
        "  def __init__(self, name, sides):\n",
        "    self._name = name\n",
        "    self._sides = sides\n",
        "\n",
        "  def display_sides(self):\n",
        "    print(f\"A {self._name} has {self._sides} sides\")\n",
        "\n",
        "class Shape1(Shapes):\n",
        "  pass\n",
        "class Shape2(Shapes):\n",
        "  pass\n",
        "class Shape3(Shapes):\n",
        "  pass\n",
        "class Shape4(Shapes):\n",
        "  pass\n",
        "class Shape5(Shapes):\n",
        "  pass\n",
        "\n",
        "shape1 = Shape1(\"Square\", 4)\n",
        "shape2 = Shape2(\"Triangle\", 3)\n",
        "shape3 = Shape3(\"Pentagon\", 5)\n",
        "shape4 = Shape4(\"Hexagon\", 6)\n",
        "shape5 = Shape5(\"Octagon\", 8)\n",
        "\n",
        "shape1.display_sides()\n",
        "shape2.display_sides()\n",
        "shape3.display_sides()\n",
        "shape4.display_sides()\n",
        "shape5.display_sides()"
      ]
    }
  ]
}