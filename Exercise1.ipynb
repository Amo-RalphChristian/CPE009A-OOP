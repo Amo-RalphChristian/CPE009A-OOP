{
  "nbformat": 4,
  "nbformat_minor": 0,
  "metadata": {
    "colab": {
      "provenance": [],
      "authorship_tag": "ABX9TyN/1qV/M2e00cbtPFiFXWiz",
      "include_colab_link": true
    },
    "kernelspec": {
      "name": "python3",
      "display_name": "Python 3"
    },
    "language_info": {
      "name": "python"
    }
  },
  "cells": [
    {
      "cell_type": "markdown",
      "metadata": {
        "id": "view-in-github",
        "colab_type": "text"
      },
      "source": [
        "<a href=\"https://colab.research.google.com/github/Amo-RalphChristian/CPE009A-OOP/blob/main/Exercise1.ipynb\" target=\"_parent\"><img src=\"https://colab.research.google.com/assets/colab-badge.svg\" alt=\"Open In Colab\"/></a>"
      ]
    },
    {
      "cell_type": "markdown",
      "source": [
        "# **Solving for the Perimeter and Area Rectangle**\n",
        "1. Get the user input for length\n",
        "2. Get the user input for width\n",
        "3. To get the perimeter, add the width and the length\n",
        "4. Multiply the sum of the length and the width by 2\n",
        "5. To get the area, multiple the length and the width\n",
        "6. Print the output of the area and the perimeter of the rectangle"
      ],
      "metadata": {
        "id": "UIvm6cKUUEWe"
      }
    },
    {
      "cell_type": "code",
      "source": [
        "print(\"Enter Length\")\n",
        "length = int(input())\n",
        "print(\"Enter Width\")\n",
        "width = int(input())\n",
        "\n",
        "myLength = \"Length: {}\"\n",
        "print(myLength.format(length))\n",
        "myWidth = \"Width: {}\"\n",
        "print(myWidth.format(width))\n",
        "\n",
        "sum = length + width\n",
        "perimeter = 2 * (sum)\n",
        "\n",
        "area = length * width\n",
        "\n",
        "myPerimeter = \"Perimeter: {}\"\n",
        "print(myPerimeter.format(perimeter))\n",
        "\n",
        "myArea = \"Area: {}\"\n",
        "print(myArea.format(area))"
      ],
      "metadata": {
        "colab": {
          "base_uri": "https://localhost:8080/"
        },
        "id": "2VsLg5ZDUPam",
        "outputId": "d8c76cb2-67cf-4942-d677-56d227a6831a"
      },
      "execution_count": 4,
      "outputs": [
        {
          "output_type": "stream",
          "name": "stdout",
          "text": [
            "Enter Length\n",
            "23\n",
            "Enter Width\n",
            "12\n",
            "Length: 23\n",
            "Width: 12\n",
            "Perimeter: 70\n",
            "Area: 276\n"
          ]
        }
      ]
    }
  ]
}