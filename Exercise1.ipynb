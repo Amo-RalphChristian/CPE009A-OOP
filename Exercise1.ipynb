{
  "nbformat": 4,
  "nbformat_minor": 0,
  "metadata": {
    "colab": {
      "provenance": [],
      "authorship_tag": "ABX9TyMDLfSixx7K3hqTDtSksrdK",
      "include_colab_link": true
    },
    "kernelspec": {
      "name": "python3",
      "display_name": "Python 3"
    },
    "language_info": {
      "name": "python"
    }
  },
  "cells": [
    {
      "cell_type": "markdown",
      "metadata": {
        "id": "view-in-github",
        "colab_type": "text"
      },
      "source": [
        "<a href=\"https://colab.research.google.com/github/Amo-RalphChristian/CPE009A-OOP/blob/main/Exercise1.ipynb\" target=\"_parent\"><img src=\"https://colab.research.google.com/assets/colab-badge.svg\" alt=\"Open In Colab\"/></a>"
      ]
    },
    {
      "cell_type": "markdown",
      "source": [
        "# **Solving for the Perimeter and Area Rectangle**\n",
        "1. Get the user input for length\n",
        "2. Get the user input for width\n",
        "3. To get the perimeter, add the width and the length\n",
        "4. Multiply the sum of the length and the width by 2\n",
        "5. To get the area, multiple the length and the width\n",
        "6. Print the output of the area and the perimeter of the rectangle"
      ],
      "metadata": {
        "id": "UIvm6cKUUEWe"
      }
    },
    {
      "cell_type": "code",
      "source": [
        "length = int(input(\"Length: \" ))\n",
        "width = int(input(\"Width: \"))\n",
        "\n",
        "sum = length + width\n",
        "perimeter = 2 * (sum)\n",
        "\n",
        "area = length * width\n",
        "\n",
        "myPerimeter = \"Perimeter: {}\"\n",
        "print(myPerimeter.format(perimeter))\n",
        "\n",
        "myArea = \"Area: {}\"\n",
        "print(myArea.format(area))"
      ],
      "metadata": {
        "colab": {
          "base_uri": "https://localhost:8080/"
        },
        "id": "2VsLg5ZDUPam",
        "outputId": "905c0f39-3739-42d6-b361-2e2b6bb11591"
      },
      "execution_count": 5,
      "outputs": [
        {
          "output_type": "stream",
          "name": "stdout",
          "text": [
            "Length: 23\n",
            "Width: 28\n",
            "Perimeter: 102\n",
            "Area: 644\n"
          ]
        }
      ]
    }
  ]
}