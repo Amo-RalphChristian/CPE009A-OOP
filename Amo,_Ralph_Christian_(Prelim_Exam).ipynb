{
  "nbformat": 4,
  "nbformat_minor": 0,
  "metadata": {
    "colab": {
      "provenance": [],
      "authorship_tag": "ABX9TyPa9xRqkde++zJYELIFL6bt",
      "include_colab_link": true
    },
    "kernelspec": {
      "name": "python3",
      "display_name": "Python 3"
    },
    "language_info": {
      "name": "python"
    }
  },
  "cells": [
    {
      "cell_type": "markdown",
      "metadata": {
        "id": "view-in-github",
        "colab_type": "text"
      },
      "source": [
        "<a href=\"https://colab.research.google.com/github/Amo-RalphChristian/CPE009A-OOP/blob/main/Amo%2C_Ralph_Christian_(Prelim_Exam).ipynb\" target=\"_parent\"><img src=\"https://colab.research.google.com/assets/colab-badge.svg\" alt=\"Open In Colab\"/></a>"
      ]
    },
    {
      "cell_type": "code",
      "execution_count": 11,
      "metadata": {
        "colab": {
          "base_uri": "https://localhost:8080/"
        },
        "id": "ToNGoGT5Qk9i",
        "outputId": "7f3e3c96-371f-41a6-c4dc-22e68bfa54f5"
      },
      "outputs": [
        {
          "output_type": "stream",
          "name": "stdout",
          "text": [
            "Enter your fullname: Amo, Ralph Christian\n",
            "Enter your age: 20\n",
            "Fullname and age: Amo, Ralph Christian and 20\n"
          ]
        }
      ],
      "source": [
        "fullName = input(\"Enter your fullname: \")\n",
        "age = input(\"Enter your age: \")\n",
        "print(\"Fullname and age: \" + fullName + \" \" + \"and\" + \" \" + age )"
      ]
    }
  ]
}