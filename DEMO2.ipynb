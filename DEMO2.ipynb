{
  "nbformat": 4,
  "nbformat_minor": 0,
  "metadata": {
    "colab": {
      "provenance": [],
      "authorship_tag": "ABX9TyPmc9VXAYkAAJClvjCSU46A",
      "include_colab_link": true
    },
    "kernelspec": {
      "name": "python3",
      "display_name": "Python 3"
    },
    "language_info": {
      "name": "python"
    }
  },
  "cells": [
    {
      "cell_type": "markdown",
      "metadata": {
        "id": "view-in-github",
        "colab_type": "text"
      },
      "source": [
        "<a href=\"https://colab.research.google.com/github/Amo-RalphChristian/CPE009A-OOP/blob/main/DEMO2.ipynb\" target=\"_parent\"><img src=\"https://colab.research.google.com/assets/colab-badge.svg\" alt=\"Open In Colab\"/></a>"
      ]
    },
    {
      "cell_type": "markdown",
      "source": [
        "# **Source Code**"
      ],
      "metadata": {
        "id": "BfK_Bd91Pnt-"
      }
    },
    {
      "cell_type": "code",
      "execution_count": 11,
      "metadata": {
        "colab": {
          "base_uri": "https://localhost:8080/"
        },
        "id": "g9Hlbo7gNH7Z",
        "outputId": "cd3c6003-89d9-4d01-cad3-ceb8dfa2ce32"
      },
      "outputs": [
        {
          "output_type": "stream",
          "name": "stdout",
          "text": [
            "180\n",
            "90.0\n",
            "You Passed\n"
          ]
        }
      ],
      "source": [
        "num1 = 60\n",
        "num2 = 90\n",
        "num3 = 30\n",
        "sum = num1+num2+num3\n",
        "average = sum/2\n",
        "\n",
        "print(sum)\n",
        "print(average)\n",
        "\n",
        "if average < 50:\n",
        "  print(\"You Failed\")\n",
        "else:\n",
        "  print(\"You Passed\")"
      ]
    },
    {
      "cell_type": "markdown",
      "source": [
        "# **Input/Output**"
      ],
      "metadata": {
        "id": "Gu_QSVzRP0Md"
      }
    },
    {
      "cell_type": "code",
      "source": [
        "print(\"Input 3 Values\")\n",
        "\n",
        "num1 = int(input())\n",
        "num2 = int(input())\n",
        "num3 = int(input())\n",
        "sum = num1+num2+num3\n",
        "average = sum/2\n",
        "\n",
        "mySum = \"Your sum: {}\"\n",
        "print(mySum.format(sum))\n",
        "\n",
        "myAve = \"Your Average: {}\"\n",
        "print(myAve.format(average))\n"
      ],
      "metadata": {
        "colab": {
          "base_uri": "https://localhost:8080/"
        },
        "id": "PwSAvqCeP422",
        "outputId": "13332a5d-1429-436e-e465-dc65d2bf51e4"
      },
      "execution_count": 29,
      "outputs": [
        {
          "output_type": "stream",
          "name": "stdout",
          "text": [
            "Input 3 Values\n",
            "50\n",
            "99\n",
            "75\n",
            "Your sum: 224\n",
            "Your Average: 112.0\n"
          ]
        }
      ]
    },
    {
      "cell_type": "code",
      "source": [],
      "metadata": {
        "id": "ox4pmSJGSAbm"
      },
      "execution_count": null,
      "outputs": []
    }
  ]
}