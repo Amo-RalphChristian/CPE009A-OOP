{
  "nbformat": 4,
  "nbformat_minor": 0,
  "metadata": {
    "colab": {
      "provenance": [],
      "authorship_tag": "ABX9TyPOu1qKZFxjyL3mqhGQo2TT",
      "include_colab_link": true
    },
    "kernelspec": {
      "name": "python3",
      "display_name": "Python 3"
    },
    "language_info": {
      "name": "python"
    }
  },
  "cells": [
    {
      "cell_type": "markdown",
      "metadata": {
        "id": "view-in-github",
        "colab_type": "text"
      },
      "source": [
        "<a href=\"https://colab.research.google.com/github/Amo-RalphChristian/CPE009A-OOP/blob/main/DEMO2.ipynb\" target=\"_parent\"><img src=\"https://colab.research.google.com/assets/colab-badge.svg\" alt=\"Open In Colab\"/></a>"
      ]
    },
    {
      "cell_type": "code",
      "execution_count": 9,
      "metadata": {
        "colab": {
          "base_uri": "https://localhost:8080/"
        },
        "id": "g9Hlbo7gNH7Z",
        "outputId": "e3f023ed-436a-4eec-cf62-fcfd1acaa9eb"
      },
      "outputs": [
        {
          "output_type": "stream",
          "name": "stdout",
          "text": [
            "Your average: \n",
            "90.0\n",
            "You Passed\n"
          ]
        }
      ],
      "source": [
        "num1 = 60\n",
        "num2 = 90\n",
        "num3 = 30\n",
        "sum = num1+num2+num3\n",
        "average = sum/2\n",
        "\n",
        "print(\"Your average: \")\n",
        "print(average)\n",
        "\n",
        "if average < 50:\n",
        "  print(\"You Failed\")\n",
        "else:\n",
        "  print(\"You Passed\")"
      ]
    }
  ]
}