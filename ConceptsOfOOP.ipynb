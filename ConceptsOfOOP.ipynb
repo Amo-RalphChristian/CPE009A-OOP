{
  "nbformat": 4,
  "nbformat_minor": 0,
  "metadata": {
    "colab": {
      "provenance": [],
      "authorship_tag": "ABX9TyNkcwflUa5KEriRGddXJdmj",
      "include_colab_link": true
    },
    "kernelspec": {
      "name": "python3",
      "display_name": "Python 3"
    },
    "language_info": {
      "name": "python"
    }
  },
  "cells": [
    {
      "cell_type": "markdown",
      "metadata": {
        "id": "view-in-github",
        "colab_type": "text"
      },
      "source": [
        "<a href=\"https://colab.research.google.com/github/Amo-RalphChristian/CPE009A-OOP/blob/main/ConceptsOfOOP.ipynb\" target=\"_parent\"><img src=\"https://colab.research.google.com/assets/colab-badge.svg\" alt=\"Open In Colab\"/></a>"
      ]
    },
    {
      "cell_type": "code",
      "execution_count": 1,
      "metadata": {
        "colab": {
          "base_uri": "https://localhost:8080/"
        },
        "id": "A7oIDm74YLua",
        "outputId": "15bfeecb-e119-41f0-f5ee-e3ffd0981d52"
      },
      "outputs": [
        {
          "output_type": "stream",
          "name": "stdout",
          "text": [
            "<__main__.Car object at 0x7c10c602ce80>\n"
          ]
        }
      ],
      "source": [
        "class Car:\n",
        "  pass\n",
        "\n",
        "obj1 = Car()\n",
        "print(obj1)"
      ]
    },
    {
      "cell_type": "code",
      "source": [
        "class Car:\n",
        "  def __init__(self, name, color,mileage):\n",
        "    self.name = name\n",
        "    self.color = color\n",
        "    self.mileage = mileage\n",
        "\n",
        "obj1 = Car(\"BMW\",\"Red\",1000)\n",
        "obj2 = Car(\"Toyota\",\"Blue\",1200)\n",
        "print(obj1.name)\n",
        "print(obj1.color)\n",
        "print(obj1.mileage)\n",
        "\n",
        "print(obj2.mileage)"
      ],
      "metadata": {
        "colab": {
          "base_uri": "https://localhost:8080/"
        },
        "id": "wU4zwDlNjbvY",
        "outputId": "12867912-ff27-4d2e-9a1a-2aba66211315"
      },
      "execution_count": 11,
      "outputs": [
        {
          "output_type": "stream",
          "name": "stdout",
          "text": [
            "BMW\n",
            "Red\n",
            "1000\n",
            "1200\n"
          ]
        }
      ]
    },
    {
      "cell_type": "markdown",
      "source": [
        "# **Application 1** - write a python program that prints your student information with the following attributes: Name, Age, Course, and Section. Use class name student"
      ],
      "metadata": {
        "id": "cmvpSoGDmouH"
      }
    },
    {
      "cell_type": "code",
      "source": [
        "class Student:\n",
        "  def __init__(self, name, age, course, section):\n",
        "    self.name = name\n",
        "    self.age = age\n",
        "    self.course = course\n",
        "    self.section = section\n",
        "\n",
        "obj1 = Student(\"Ralph\",20,\"Computer Engineering\",\"CPE12S6\")\n",
        "print(\"NAME:\", obj1.name)\n",
        "print(\"AGE:\", obj1.age, \"Years Old\")\n",
        "print(\"COURSE:\", obj1.course)\n",
        "print(\"SECTION:\", obj1.section)"
      ],
      "metadata": {
        "colab": {
          "base_uri": "https://localhost:8080/"
        },
        "id": "pclQIioimtjH",
        "outputId": "ea93b650-5963-4517-c270-7e999d3776ae"
      },
      "execution_count": 19,
      "outputs": [
        {
          "output_type": "stream",
          "name": "stdout",
          "text": [
            "NAME: Ralph\n",
            "AGE: 20 Years Old\n",
            "COURSE: Computer Engineering\n",
            "SECTION: CPE12S6\n"
          ]
        }
      ]
    }
  ]
}