{
  "nbformat": 4,
  "nbformat_minor": 0,
  "metadata": {
    "colab": {
      "provenance": [],
      "authorship_tag": "ABX9TyPOfHhGLtMn6BGVdUxPiVnq",
      "include_colab_link": true
    },
    "kernelspec": {
      "name": "python3",
      "display_name": "Python 3"
    },
    "language_info": {
      "name": "python"
    }
  },
  "cells": [
    {
      "cell_type": "markdown",
      "metadata": {
        "id": "view-in-github",
        "colab_type": "text"
      },
      "source": [
        "<a href=\"https://colab.research.google.com/github/Amo-RalphChristian/CPE009A-OOP/blob/main/ConceptsOfOOP_2.ipynb\" target=\"_parent\"><img src=\"https://colab.research.google.com/assets/colab-badge.svg\" alt=\"Open In Colab\"/></a>"
      ]
    },
    {
      "cell_type": "markdown",
      "source": [
        "# **Inheritance, Encapsulation, and Creating Multiple Object Names**"
      ],
      "metadata": {
        "id": "DZcrD6BVmNne"
      }
    },
    {
      "cell_type": "code",
      "execution_count": 9,
      "metadata": {
        "colab": {
          "base_uri": "https://localhost:8080/"
        },
        "id": "SAd9Qrv2XI2R",
        "outputId": "2f01e5c0-0cea-4ef4-fca8-c57d00ffffea"
      },
      "outputs": [
        {
          "output_type": "stream",
          "name": "stdout",
          "text": [
            "16\n",
            "6.928\n"
          ]
        }
      ],
      "source": [
        "class RegularPolygon: #creates the super class name RegularPolygon\n",
        "  def __init__(self,side):\n",
        "    self.side = side\n",
        "class Square(RegularPolygon): #inherits the propertiesof superclass RegularPolygon\n",
        "  def area(self): #defines the method/function to get the area of a square\n",
        "    return self.side * self.side\n",
        "class EquilateralTriangle(RegularPolygon):\n",
        "  def area(self): #defines the method/function to get the area of equalateral triangle\n",
        "    return self.side * self.side * 0.433\n",
        "\n",
        "square = Square(4) #creates and object name square\n",
        "print(square.area())  #print the intance of the attribute of Square class\n",
        "equaltriangle = EquilateralTriangle(4) #creates and object name equiltriangle\n",
        "print(equaltriangle.area()) #print the intance of the attribute of EquilateralTriangle class"
      ]
    },
    {
      "cell_type": "markdown",
      "source": [
        "# **Encapsulation using Magling (double-underscore)**"
      ],
      "metadata": {
        "id": "ye4mH3iRr1Bk"
      }
    },
    {
      "cell_type": "code",
      "source": [
        "class RegularPolygon: #creates the super class name RegularPolygon\n",
        "  def __init__(self,side):\n",
        "    self.__side = side\n",
        "  def area(self): #defines the method/function to get the area of a square\n",
        "    print(self.__side * self.__side)\n",
        "class Square(RegularPolygon): #inherits the properties of superclass RegularPolygon\n",
        "  pass\n",
        "\n",
        "square = Square(4)\n",
        "square.area()"
      ],
      "metadata": {
        "colab": {
          "base_uri": "https://localhost:8080/"
        },
        "id": "p35fRQGor_a4",
        "outputId": "6b0a7f52-e0a9-42ca-bace-f16ba108a20a"
      },
      "execution_count": 22,
      "outputs": [
        {
          "output_type": "stream",
          "name": "stdout",
          "text": [
            "16\n"
          ]
        }
      ]
    },
    {
      "cell_type": "markdown",
      "source": [
        "# **Application 1**\n",
        "1.   Create a Python prorgram that displays the name of three students (Student 1, Student 2, and Student 3) and their term grades\n",
        "2.   Create a class name Person and attributes - std1, std2, std3, pre, mid, fin\n",
        "3. Compute the average of each term using Grade() method\n",
        "4. Information about student's grades must be hidden from others\n",
        "\n"
      ],
      "metadata": {
        "id": "AWaxVc_Ftup8"
      }
    },
    {
      "cell_type": "code",
      "source": [
        "class Person:\n",
        "  def __init__(self,std1,std2,std3,pre,mid,fin):\n",
        "    self._std1 = std1\n",
        "    self._std2 = std2\n",
        "    self._std3 = std3\n",
        "    self._pre = pre\n",
        "    self._mid = mid\n",
        "    self._fin = fin\n",
        "\n",
        "  def _average_grade(self,grade1,grade2,grade3):\n",
        "    return (grade1 + grade2 + grade3)/3\n",
        "\n",
        "  def _compute_average(self,grade1,grade2,grade3):\n",
        "    return round(self._average_grade(grade1,grade2,grade3),2)\n",
        "\n",
        "  def compute_term_grades(self):\n",
        "    pre_avg = self._compute_average(*self._pre)\n",
        "    mid_avg = self._compute_average(*self._mid)\n",
        "    fin_avg = self._compute_average(*self._fin)\n",
        "    return pre_avg, mid_avg, fin_avg\n",
        "\n",
        "student1 = ('Student 1', 80, 85, 90)\n",
        "student2 = ('Student 2', 75, 82, 88)\n",
        "student3 = ('Student 3', 90, 88, 92)\n",
        "\n",
        "person = Person(student1,student2,student3,(80, 85, 90),(75, 82, 88),(90, 88, 92))\n",
        "\n",
        "pre_avg,mid_avg,fin_avg = person.compute_term_grades()\n",
        "print(\"Student 1 average\", pre_avg)\n",
        "print(\"Student 2 average\", mid_avg)\n",
        "print(\"Student 3 average\", fin_avg)"
      ],
      "metadata": {
        "colab": {
          "base_uri": "https://localhost:8080/"
        },
        "id": "z0D-Oydjtv4d",
        "outputId": "cd929d1b-081d-41e6-b619-548a288ec4ac"
      },
      "execution_count": 21,
      "outputs": [
        {
          "output_type": "stream",
          "name": "stdout",
          "text": [
            "Pre-term average 85.0\n",
            "Mid-term average 81.67\n",
            "Final-term average 90.0\n"
          ]
        }
      ]
    },
    {
      "cell_type": "code",
      "source": [
        "class Person:\n",
        "  def __init__(self,pre,mid,fin):\n",
        "    self._pre = pre\n",
        "    self._mid = mid\n",
        "    self._fin = fin\n",
        "\n",
        "  def grade(self):\n",
        "    avg_grade = (self._pre + self._mid + self._fin)/3\n",
        "    return avg_grade\n",
        "\n",
        "class Grades:\n",
        "  def __init__(self,pre,mid,fin):\n",
        "    self._pre = pre\n",
        "    self._mid = mid\n",
        "    self._fin = fin\n",
        "\n",
        "  def get_grades(self):\n",
        "    return self._pre, self._mid, self._fin\n",
        "\n",
        "Student1 = Person.Grades(85,92,79)\n",
        "Student2 = Person.Grades(77,88,91)\n",
        "Student3 = Person.Grades(91,92,94)\n",
        "\n",
        "print(\"Average Term Grade of Student 1:\", Student1.get_grades())\n",
        "print(\"Average Term Grade of Student 2:\", Student2.get_grades())\n",
        "print(\"Average Term Grade of Student 3:\", Student3.get_grades())"
      ],
      "metadata": {
        "colab": {
          "base_uri": "https://localhost:8080/",
          "height": 211
        },
        "id": "fo5A3XC81_GR",
        "outputId": "c20b2877-7fb2-4381-a354-1e6ebf1935f8"
      },
      "execution_count": 30,
      "outputs": [
        {
          "output_type": "error",
          "ename": "AttributeError",
          "evalue": "type object 'Person' has no attribute 'Grades'",
          "traceback": [
            "\u001b[0;31m---------------------------------------------------------------------------\u001b[0m",
            "\u001b[0;31mAttributeError\u001b[0m                            Traceback (most recent call last)",
            "\u001b[0;32m<ipython-input-30-0c423353411f>\u001b[0m in \u001b[0;36m<cell line: 20>\u001b[0;34m()\u001b[0m\n\u001b[1;32m     18\u001b[0m     \u001b[0;32mreturn\u001b[0m \u001b[0mself\u001b[0m\u001b[0;34m.\u001b[0m\u001b[0m_pre\u001b[0m\u001b[0;34m,\u001b[0m \u001b[0mself\u001b[0m\u001b[0;34m.\u001b[0m\u001b[0m_mid\u001b[0m\u001b[0;34m,\u001b[0m \u001b[0mself\u001b[0m\u001b[0;34m.\u001b[0m\u001b[0m_fin\u001b[0m\u001b[0;34m\u001b[0m\u001b[0;34m\u001b[0m\u001b[0m\n\u001b[1;32m     19\u001b[0m \u001b[0;34m\u001b[0m\u001b[0m\n\u001b[0;32m---> 20\u001b[0;31m \u001b[0mStudent1\u001b[0m \u001b[0;34m=\u001b[0m \u001b[0mPerson\u001b[0m\u001b[0;34m.\u001b[0m\u001b[0mGrades\u001b[0m\u001b[0;34m(\u001b[0m\u001b[0;36m85\u001b[0m\u001b[0;34m,\u001b[0m\u001b[0;36m92\u001b[0m\u001b[0;34m,\u001b[0m\u001b[0;36m79\u001b[0m\u001b[0;34m)\u001b[0m\u001b[0;34m\u001b[0m\u001b[0;34m\u001b[0m\u001b[0m\n\u001b[0m\u001b[1;32m     21\u001b[0m \u001b[0mStudent2\u001b[0m \u001b[0;34m=\u001b[0m \u001b[0mPerson\u001b[0m\u001b[0;34m.\u001b[0m\u001b[0mGrades\u001b[0m\u001b[0;34m(\u001b[0m\u001b[0;36m77\u001b[0m\u001b[0;34m,\u001b[0m\u001b[0;36m88\u001b[0m\u001b[0;34m,\u001b[0m\u001b[0;36m91\u001b[0m\u001b[0;34m)\u001b[0m\u001b[0;34m\u001b[0m\u001b[0;34m\u001b[0m\u001b[0m\n\u001b[1;32m     22\u001b[0m \u001b[0mStudent3\u001b[0m \u001b[0;34m=\u001b[0m \u001b[0mPerson\u001b[0m\u001b[0;34m.\u001b[0m\u001b[0mGrades\u001b[0m\u001b[0;34m(\u001b[0m\u001b[0;36m91\u001b[0m\u001b[0;34m,\u001b[0m\u001b[0;36m92\u001b[0m\u001b[0;34m,\u001b[0m\u001b[0;36m94\u001b[0m\u001b[0;34m)\u001b[0m\u001b[0;34m\u001b[0m\u001b[0;34m\u001b[0m\u001b[0m\n",
            "\u001b[0;31mAttributeError\u001b[0m: type object 'Person' has no attribute 'Grades'"
          ]
        }
      ]
    }
  ]
}