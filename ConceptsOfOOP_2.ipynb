{
  "nbformat": 4,
  "nbformat_minor": 0,
  "metadata": {
    "colab": {
      "provenance": [],
      "authorship_tag": "ABX9TyNszU9eoc8bVQEdtmu9tPB1",
      "include_colab_link": true
    },
    "kernelspec": {
      "name": "python3",
      "display_name": "Python 3"
    },
    "language_info": {
      "name": "python"
    }
  },
  "cells": [
    {
      "cell_type": "markdown",
      "metadata": {
        "id": "view-in-github",
        "colab_type": "text"
      },
      "source": [
        "<a href=\"https://colab.research.google.com/github/Amo-RalphChristian/CPE009A-OOP/blob/main/ConceptsOfOOP_2.ipynb\" target=\"_parent\"><img src=\"https://colab.research.google.com/assets/colab-badge.svg\" alt=\"Open In Colab\"/></a>"
      ]
    },
    {
      "cell_type": "markdown",
      "source": [
        "# **Inheritance, Encapsulation, and Creating Multiple Object Names**"
      ],
      "metadata": {
        "id": "DZcrD6BVmNne"
      }
    },
    {
      "cell_type": "code",
      "execution_count": null,
      "metadata": {
        "colab": {
          "base_uri": "https://localhost:8080/"
        },
        "id": "SAd9Qrv2XI2R",
        "outputId": "2f01e5c0-0cea-4ef4-fca8-c57d00ffffea"
      },
      "outputs": [
        {
          "output_type": "stream",
          "name": "stdout",
          "text": [
            "16\n",
            "6.928\n"
          ]
        }
      ],
      "source": [
        "class RegularPolygon: #creates the super class name RegularPolygon\n",
        "  def __init__(self,side):\n",
        "    self.side = side\n",
        "class Square(RegularPolygon): #inherits the propertiesof superclass RegularPolygon\n",
        "  def area(self): #defines the method/function to get the area of a square\n",
        "    return self.side * self.side\n",
        "class EquilateralTriangle(RegularPolygon):\n",
        "  def area(self): #defines the method/function to get the area of equalateral triangle\n",
        "    return self.side * self.side * 0.433\n",
        "\n",
        "square = Square(4) #creates and object name square\n",
        "print(square.area())  #print the intance of the attribute of Square class\n",
        "equaltriangle = EquilateralTriangle(4) #creates and object name equiltriangle\n",
        "print(equaltriangle.area()) #print the intance of the attribute of EquilateralTriangle class"
      ]
    },
    {
      "cell_type": "markdown",
      "source": [
        "# **Encapsulation using Magling (double-underscore)**"
      ],
      "metadata": {
        "id": "ye4mH3iRr1Bk"
      }
    },
    {
      "cell_type": "code",
      "source": [
        "class RegularPolygon: #creates the super class name RegularPolygon\n",
        "  def __init__(self,side):\n",
        "    self.__side = side\n",
        "  def area(self): #defines the method/function to get the area of a square\n",
        "    print(self.__side * self.__side)\n",
        "class Square(RegularPolygon): #inherits the properties of superclass RegularPolygon\n",
        "  pass\n",
        "\n",
        "square = Square(4)\n",
        "square.area()"
      ],
      "metadata": {
        "colab": {
          "base_uri": "https://localhost:8080/"
        },
        "id": "p35fRQGor_a4",
        "outputId": "6b0a7f52-e0a9-42ca-bace-f16ba108a20a"
      },
      "execution_count": null,
      "outputs": [
        {
          "output_type": "stream",
          "name": "stdout",
          "text": [
            "16\n"
          ]
        }
      ]
    },
    {
      "cell_type": "markdown",
      "source": [
        "# **Application 1**\n",
        "1.   Create a Python prorgram that displays the name of three students (Student 1, Student 2, and Student 3) and their term grades\n",
        "2.   Create a class name Person and attributes - std1, std2, std3, pre, mid, fin\n",
        "3. Compute the average of each term using Grade() method\n",
        "4. Information about student's grades must be hidden from others\n",
        "\n"
      ],
      "metadata": {
        "id": "AWaxVc_Ftup8"
      }
    },
    {
      "cell_type": "code",
      "source": [
        "class Person:\n",
        "    def __init__(self, name, pre_grades, mid_grades, fin_grades):\n",
        "        self.__name = name\n",
        "        self.__pre_grades = pre_grades\n",
        "        self.__mid_grades = mid_grades\n",
        "        self.__fin_grades = fin_grades\n",
        "\n",
        "    def __calculate_average(self, grades):\n",
        "        return sum(grades) / len(grades)\n",
        "\n",
        "    def display_grades(self):\n",
        "        print(\"Name:\", self.__name)\n",
        "        print(\"Pre-term grades:\", self.__pre_grades)\n",
        "        print(\"Mid-term grades:\", self.__mid_grades)\n",
        "        print(\"Final-term grades:\", self.__fin_grades)\n",
        "\n",
        "    def grade_report(self):\n",
        "        pre_avg = self.__calculate_average(self.__pre_grades)\n",
        "        mid_avg = self.__calculate_average(self.__mid_grades)\n",
        "        fin_avg = self.__calculate_average(self.__fin_grades)\n",
        "\n",
        "        print(\"Pre-term average grade:\", pre_avg)\n",
        "        print(\"Mid-term average grade:\", mid_avg)\n",
        "        print(\"Final-term average grade:\", fin_avg)\n",
        "\n",
        "# Creating instances of Person class for each student\n",
        "student1 = Person(\"Student 1\", [85, 90, 88], [88, 92, 90], [90, 95, 92])\n",
        "student2 = Person(\"Student 2\", [78, 82, 80], [85, 88, 84], [88, 90, 87])\n",
        "student3 = Person(\"Student 3\", [92, 95, 90], [85, 88, 90], [94, 96, 92])\n",
        "\n",
        "# Displaying grades for each student\n",
        "student1.display_grades()\n",
        "print()\n",
        "student2.display_grades()\n",
        "print()\n",
        "student3.display_grades()\n",
        "print()\n",
        "\n",
        "# Displaying average grades for each term for each student\n",
        "print(\"Grade report for Student 1:\")\n",
        "student1.grade_report()\n",
        "print()\n",
        "print(\"Grade report for Student 2:\")\n",
        "student2.grade_report()\n",
        "print()\n",
        "print(\"Grade report for Student 3:\")\n",
        "student3.grade_report()"
      ],
      "metadata": {
        "id": "sUKhJjzfz5ns",
        "outputId": "150a8a3c-0593-4005-843f-2a85e8267bc0",
        "colab": {
          "base_uri": "https://localhost:8080/"
        }
      },
      "execution_count": 6,
      "outputs": [
        {
          "output_type": "stream",
          "name": "stdout",
          "text": [
            "Name: Student 1\n",
            "Pre-term grades: [85, 90, 88]\n",
            "Mid-term grades: [88, 92, 90]\n",
            "Final-term grades: [90, 95, 92]\n",
            "\n",
            "Name: Student 2\n",
            "Pre-term grades: [78, 82, 80]\n",
            "Mid-term grades: [85, 88, 84]\n",
            "Final-term grades: [88, 90, 87]\n",
            "\n",
            "Name: Student 3\n",
            "Pre-term grades: [92, 95, 90]\n",
            "Mid-term grades: [85, 88, 90]\n",
            "Final-term grades: [94, 96, 92]\n",
            "\n",
            "Grade report for Student 1:\n",
            "Pre-term average grade: 87.66666666666667\n",
            "Mid-term average grade: 90.0\n",
            "Final-term average grade: 92.33333333333333\n",
            "\n",
            "Grade report for Student 2:\n",
            "Pre-term average grade: 80.0\n",
            "Mid-term average grade: 85.66666666666667\n",
            "Final-term average grade: 88.33333333333333\n",
            "\n",
            "Grade report for Student 3:\n",
            "Pre-term average grade: 92.33333333333333\n",
            "Mid-term average grade: 87.66666666666667\n",
            "Final-term average grade: 94.0\n"
          ]
        }
      ]
    }
  ]
}